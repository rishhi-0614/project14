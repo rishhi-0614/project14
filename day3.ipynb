{
 "cells": [
  {
   "cell_type": "code",
   "execution_count": null,
   "id": "f7a4f3c7-629e-4f5e-8cbd-3dc7a2566920",
   "metadata": {},
   "outputs": [],
   "source": [
    "if condition1:\n",
    "    task block of code\n",
    "elif condition2:\n",
    "    task block of code\n",
    "elif condition3:\n",
    "    task block of code\n",
    "    .\n",
    "    .\n",
    "    .\n",
    "elif condition n:\n",
    "     task n\n",
    "else:\n",
    "    task block of code"
   ]
  },
  {
   "cell_type": "code",
   "execution_count": 11,
   "id": "db71f53f-ac79-495d-9da4-b63f8ca2500c",
   "metadata": {},
   "outputs": [
    {
     "name": "stdout",
     "output_type": "stream",
     "text": [
      "odd\n"
     ]
    }
   ],
   "source": [
    "x=9\n",
    "if x%2==0:\n",
    "    print(\"Even\")\n",
    "else:\n",
    "    print(\"odd\")\n",
    "    "
   ]
  },
  {
   "cell_type": "code",
   "execution_count": 13,
   "id": "19636dab-c2ef-4795-a467-7a7253303273",
   "metadata": {},
   "outputs": [
    {
     "data": {
      "text/plain": [
       "1"
      ]
     },
     "execution_count": 13,
     "metadata": {},
     "output_type": "execute_result"
    }
   ],
   "source": [
    "7%2"
   ]
  },
  {
   "cell_type": "code",
   "execution_count": 15,
   "id": "d6284d17-b4e0-4a42-ae63-eb70193f14ab",
   "metadata": {},
   "outputs": [
    {
     "data": {
      "text/plain": [
       "False"
      ]
     },
     "execution_count": 15,
     "metadata": {},
     "output_type": "execute_result"
    }
   ],
   "source": [
    "x%2==0"
   ]
  },
  {
   "cell_type": "code",
   "execution_count": 17,
   "id": "014a4cc7-0aef-4455-af18-aa2b59a122b3",
   "metadata": {},
   "outputs": [
    {
     "data": {
      "text/plain": [
       "True"
      ]
     },
     "execution_count": 17,
     "metadata": {},
     "output_type": "execute_result"
    }
   ],
   "source": [
    "x>6"
   ]
  },
  {
   "cell_type": "markdown",
   "id": "e1114cc6-4fc4-4bc7-a940-b4e984fd886c",
   "metadata": {},
   "source": [
    "wap to know the number is positive,negative or zero"
   ]
  },
  {
   "cell_type": "code",
   "execution_count": 20,
   "id": "b38133c2-02f8-4fc4-ab42-940e03f0773d",
   "metadata": {},
   "outputs": [
    {
     "name": "stdout",
     "output_type": "stream",
     "text": [
      "neg\n"
     ]
    }
   ],
   "source": [
    "x=-5.8\n",
    "if x>0:\n",
    "    print('pos')\n",
    "elif x<0:\n",
    "    print('neg')\n",
    "else:\n",
    "    print('zero')\n",
    "    "
   ]
  },
  {
   "cell_type": "code",
   "execution_count": 22,
   "id": "9c485aa6-a6bf-40e9-a921-c1e6a17dd0c6",
   "metadata": {},
   "outputs": [
    {
     "name": "stdout",
     "output_type": "stream",
     "text": [
      "pos\n",
      "M\n"
     ]
    }
   ],
   "source": [
    "x=6\n",
    "if x>0:\n",
    "    print('pos')\n",
    "    if x<10:\n",
    "        print('M')\n",
    "    elif x>20:\n",
    "        print('K')\n",
    "    elif x<10:\n",
    "        print('T')\n",
    "elif x<0:\n",
    "    print('neg')\n",
    "\n",
    "    if x<-20:\n",
    "        print('Q')\n",
    "    elif x>-300:\n",
    "        print('Z')\n",
    "\n",
    "else:\n",
    "    print('zero')"
   ]
  },
  {
   "cell_type": "code",
   "execution_count": 24,
   "id": "a79ba85c-0330-4857-84de-69dda02ff4ff",
   "metadata": {},
   "outputs": [],
   "source": [
    "x='telangana'\n",
    "x='Tiger'\n",
    "x='Tan'"
   ]
  },
  {
   "cell_type": "code",
   "execution_count": 26,
   "id": "77d32699-c1ea-495b-9d7f-036ed2cd2def",
   "metadata": {},
   "outputs": [],
   "source": [
    "x='lion'\n",
    "x='mumbai'"
   ]
  },
  {
   "cell_type": "code",
   "execution_count": 28,
   "id": "69d7b13f-f0b0-43ba-990e-219affafdc6a",
   "metadata": {},
   "outputs": [
    {
     "name": "stdout",
     "output_type": "stream",
     "text": [
      "Yes\n"
     ]
    }
   ],
   "source": [
    "x='tiger'\n",
    "if x[0]=='t' or x[0]=='T':\n",
    "    print('Yes')\n",
    "else:\n",
    "    print('no')"
   ]
  },
  {
   "cell_type": "code",
   "execution_count": 30,
   "id": "187e842a-acc8-48b6-a227-1571fcd1009a",
   "metadata": {},
   "outputs": [
    {
     "name": "stdout",
     "output_type": "stream",
     "text": [
      "Yes\n"
     ]
    }
   ],
   "source": [
    "x='Tan'\n",
    "if x[0]=='t' or x[0]=='T':\n",
    "    print('Yes')\n",
    "else:\n",
    "    print('no')"
   ]
  },
  {
   "cell_type": "code",
   "execution_count": 32,
   "id": "f6b000c5-ec76-41e7-9ce7-a328e9d3e705",
   "metadata": {},
   "outputs": [],
   "source": [
    "x='lion'\n",
    "x='mumbai'"
   ]
  },
  {
   "cell_type": "code",
   "execution_count": 34,
   "id": "5bd77a81-4626-4176-871e-aaa725c3cc25",
   "metadata": {},
   "outputs": [
    {
     "name": "stdout",
     "output_type": "stream",
     "text": [
      "yes\n"
     ]
    }
   ],
   "source": [
    "x='mumbai'\n",
    "if x[0].lower() in ('t','s','m'):\n",
    "    print('yes')\n",
    "else:\n",
    "    print('no')"
   ]
  },
  {
   "cell_type": "code",
   "execution_count": 36,
   "id": "63dc1d4d-a0b6-4985-ad93-0578c65e1376",
   "metadata": {},
   "outputs": [
    {
     "name": "stdout",
     "output_type": "stream",
     "text": [
      "Yes\n"
     ]
    }
   ],
   "source": [
    "if x[0]=='s' or x[0]=='S' or x[0]=='m' or x[0]=='M' or x[0]=='h' or x[0]=='h':\n",
    "    print('Yes')\n",
    "else:\n",
    "    print('No')"
   ]
  },
  {
   "cell_type": "markdown",
   "id": "0b1d9ee7-da90-4bfd-b3b3-90008e299eb9",
   "metadata": {},
   "source": [
    "for loop while loop"
   ]
  },
  {
   "cell_type": "code",
   "execution_count": 39,
   "id": "2d6ae070-392d-44ce-9648-47faa4c1312f",
   "metadata": {},
   "outputs": [
    {
     "name": "stdout",
     "output_type": "stream",
     "text": [
      "data\n",
      "data\n",
      "data\n",
      "data\n",
      "data\n"
     ]
    }
   ],
   "source": [
    "print('data')\n",
    "print('data')\n",
    "print('data')\n",
    "print('data')\n",
    "print('data')"
   ]
  },
  {
   "cell_type": "code",
   "execution_count": 41,
   "id": "b000d94d-2866-4637-a750-acfbb6366497",
   "metadata": {},
   "outputs": [
    {
     "ename": "SyntaxError",
     "evalue": "invalid syntax (3462563280.py, line 2)",
     "output_type": "error",
     "traceback": [
      "\u001b[1;36m  Cell \u001b[1;32mIn[41], line 2\u001b[1;36m\u001b[0m\n\u001b[1;33m    block of code\u001b[0m\n\u001b[1;37m          ^\u001b[0m\n\u001b[1;31mSyntaxError\u001b[0m\u001b[1;31m:\u001b[0m invalid syntax\n"
     ]
    }
   ],
   "source": [
    "def functionname(parameter):\n",
    "    block of code\n",
    "    return output"
   ]
  },
  {
   "cell_type": "code",
   "execution_count": null,
   "id": "1ab052b3-ee08-4a1c-8512-5a3583c32aaf",
   "metadata": {},
   "outputs": [],
   "source": []
  }
 ],
 "metadata": {
  "kernelspec": {
   "display_name": "Python [conda env:base] *",
   "language": "python",
   "name": "conda-base-py"
  },
  "language_info": {
   "codemirror_mode": {
    "name": "ipython",
    "version": 3
   },
   "file_extension": ".py",
   "mimetype": "text/x-python",
   "name": "python",
   "nbconvert_exporter": "python",
   "pygments_lexer": "ipython3",
   "version": "3.12.7"
  }
 },
 "nbformat": 4,
 "nbformat_minor": 5
}
