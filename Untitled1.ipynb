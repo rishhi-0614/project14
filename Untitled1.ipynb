{
 "cells": [
  {
   "cell_type": "code",
   "execution_count": 1,
   "id": "73b0831b-4582-4642-b877-92de71cbc9bb",
   "metadata": {},
   "outputs": [
    {
     "data": {
      "text/plain": [
       "'malla reddy university'"
      ]
     },
     "execution_count": 1,
     "metadata": {},
     "output_type": "execute_result"
    }
   ],
   "source": [
    "c = \"malla reddy university\"\n",
    "c"
   ]
  },
  {
   "cell_type": "code",
   "execution_count": 3,
   "id": "a4fe472e-e08a-4fa5-9990-a609af828445",
   "metadata": {},
   "outputs": [
    {
     "data": {
      "text/plain": [
       "str"
      ]
     },
     "execution_count": 3,
     "metadata": {},
     "output_type": "execute_result"
    }
   ],
   "source": [
    "type(c)"
   ]
  },
  {
   "cell_type": "code",
   "execution_count": 5,
   "id": "ade06815-f7eb-4475-83b9-fe1de42321d7",
   "metadata": {},
   "outputs": [
    {
     "data": {
      "text/plain": [
       "(6+14j)"
      ]
     },
     "execution_count": 5,
     "metadata": {},
     "output_type": "execute_result"
    }
   ],
   "source": [
    "t=(6+14j)\n",
    "t"
   ]
  },
  {
   "cell_type": "code",
   "execution_count": 7,
   "id": "4e9bff4e-8669-4a4e-961d-cc529a376a10",
   "metadata": {},
   "outputs": [
    {
     "data": {
      "text/plain": [
       "complex"
      ]
     },
     "execution_count": 7,
     "metadata": {},
     "output_type": "execute_result"
    }
   ],
   "source": [
    "type(t)"
   ]
  },
  {
   "cell_type": "markdown",
   "id": "41dfeff7-853d-4852-9eda-603187bd74c3",
   "metadata": {},
   "source": [
    "### addition + \n",
    "### subtraction -\n",
    "### division /\n",
    "### multipication *\n",
    "### remainder %\n",
    "### power **\n",
    "### floor division //"
   ]
  },
  {
   "cell_type": "code",
   "execution_count": 10,
   "id": "214f947f-0965-490f-9eb7-b8e5c1075c30",
   "metadata": {},
   "outputs": [],
   "source": [
    "a = 6\n",
    "b = 14\n"
   ]
  },
  {
   "cell_type": "code",
   "execution_count": 14,
   "id": "2c055b32-77c4-409b-b8b1-78f9a3258c16",
   "metadata": {},
   "outputs": [
    {
     "data": {
      "text/plain": [
       "-8"
      ]
     },
     "execution_count": 14,
     "metadata": {},
     "output_type": "execute_result"
    }
   ],
   "source": [
    "a - b"
   ]
  },
  {
   "cell_type": "code",
   "execution_count": 16,
   "id": "79d757e7-703c-4812-8c7f-66c915946694",
   "metadata": {},
   "outputs": [
    {
     "data": {
      "text/plain": [
       "0.42857142857142855"
      ]
     },
     "execution_count": 16,
     "metadata": {},
     "output_type": "execute_result"
    }
   ],
   "source": [
    "a / b"
   ]
  },
  {
   "cell_type": "code",
   "execution_count": 18,
   "id": "7c2cb5c1-3897-4a58-b40b-3bf280e2802b",
   "metadata": {},
   "outputs": [
    {
     "data": {
      "text/plain": [
       "84"
      ]
     },
     "execution_count": 18,
     "metadata": {},
     "output_type": "execute_result"
    }
   ],
   "source": [
    "a * b"
   ]
  },
  {
   "cell_type": "code",
   "execution_count": 20,
   "id": "1292fcaa-ea8f-40d2-b343-a9db91007b9c",
   "metadata": {},
   "outputs": [
    {
     "data": {
      "text/plain": [
       "78364164096"
      ]
     },
     "execution_count": 20,
     "metadata": {},
     "output_type": "execute_result"
    }
   ],
   "source": [
    "a ** b"
   ]
  },
  {
   "cell_type": "code",
   "execution_count": 22,
   "id": "800cde35-fc9e-450b-875e-d0d351b85325",
   "metadata": {},
   "outputs": [
    {
     "data": {
      "text/plain": [
       "0"
      ]
     },
     "execution_count": 22,
     "metadata": {},
     "output_type": "execute_result"
    }
   ],
   "source": [
    "a // b"
   ]
  },
  {
   "cell_type": "code",
   "execution_count": 24,
   "id": "797e606d-90d5-4cd3-bd6d-75469626d0da",
   "metadata": {},
   "outputs": [
    {
     "data": {
      "text/plain": [
       "6"
      ]
     },
     "execution_count": 24,
     "metadata": {},
     "output_type": "execute_result"
    }
   ],
   "source": [
    "a % b"
   ]
  },
  {
   "cell_type": "markdown",
   "id": "ee25bfd4-0216-48c3-8d3b-70dc8e787d32",
   "metadata": {},
   "source": [
    "list tuple"
   ]
  },
  {
   "cell_type": "code",
   "execution_count": 6,
   "id": "87777a2c-c74a-4791-87a7-a1a46ea0a842",
   "metadata": {},
   "outputs": [
    {
     "data": {
      "text/plain": [
       "6"
      ]
     },
     "execution_count": 6,
     "metadata": {},
     "output_type": "execute_result"
    }
   ],
   "source": [
    "a = 6\n",
    "a"
   ]
  },
  {
   "cell_type": "code",
   "execution_count": 8,
   "id": "37386e0e-4414-4ed5-8c0d-1d14b56063ae",
   "metadata": {},
   "outputs": [
    {
     "data": {
      "text/plain": [
       "[23, 34, 45, 64]"
      ]
     },
     "execution_count": 8,
     "metadata": {},
     "output_type": "execute_result"
    }
   ],
   "source": [
    "a = [ 23,34,45,64]\n",
    "a"
   ]
  },
  {
   "cell_type": "code",
   "execution_count": 10,
   "id": "b4a83e2b-6c46-4785-abb5-4554ff876894",
   "metadata": {},
   "outputs": [
    {
     "data": {
      "text/plain": [
       "list"
      ]
     },
     "execution_count": 10,
     "metadata": {},
     "output_type": "execute_result"
    }
   ],
   "source": [
    "type(a)"
   ]
  },
  {
   "cell_type": "code",
   "execution_count": 12,
   "id": "2d14556c-d4a0-4bc0-930e-c35f5d624c54",
   "metadata": {},
   "outputs": [
    {
     "data": {
      "text/plain": [
       "[30, 304, 56, 'data', True]"
      ]
     },
     "execution_count": 12,
     "metadata": {},
     "output_type": "execute_result"
    }
   ],
   "source": [
    "c = [30,304,56,'data',True]\n",
    "c"
   ]
  },
  {
   "cell_type": "code",
   "execution_count": 14,
   "id": "d178cb14-bc01-40a1-b8a6-2340f5d96e73",
   "metadata": {},
   "outputs": [
    {
     "data": {
      "text/plain": [
       "list"
      ]
     },
     "execution_count": 14,
     "metadata": {},
     "output_type": "execute_result"
    }
   ],
   "source": [
    "type(c)"
   ]
  },
  {
   "cell_type": "code",
   "execution_count": 9,
   "id": "c5d5deff-6c6c-4cb0-9ac6-4f61ad1c91f1",
   "metadata": {},
   "outputs": [
    {
     "data": {
      "text/plain": [
       "[203, 'hyderabad', 45, True, False, 78, 175, 34, 90]"
      ]
     },
     "execution_count": 9,
     "metadata": {},
     "output_type": "execute_result"
    }
   ],
   "source": [
    "c = [203,'hyderabad',45,True,False,78,175,34,90]\n",
    "c"
   ]
  },
  {
   "cell_type": "code",
   "execution_count": 11,
   "id": "5aba2459-101b-4d31-a082-fc967a028c74",
   "metadata": {},
   "outputs": [
    {
     "data": {
      "text/plain": [
       "203"
      ]
     },
     "execution_count": 11,
     "metadata": {},
     "output_type": "execute_result"
    }
   ],
   "source": [
    "c[0]"
   ]
  },
  {
   "cell_type": "code",
   "execution_count": 13,
   "id": "78e3b2db-a4aa-4890-8ace-b03bf7a4cbfd",
   "metadata": {},
   "outputs": [
    {
     "data": {
      "text/plain": [
       "'hyderabad'"
      ]
     },
     "execution_count": 13,
     "metadata": {},
     "output_type": "execute_result"
    }
   ],
   "source": [
    "c[1]"
   ]
  },
  {
   "cell_type": "code",
   "execution_count": 15,
   "id": "08c7661a-63c2-477e-84fd-780fd684faae",
   "metadata": {},
   "outputs": [
    {
     "data": {
      "text/plain": [
       "[203]"
      ]
     },
     "execution_count": 15,
     "metadata": {},
     "output_type": "execute_result"
    }
   ],
   "source": [
    "c[0:2:3]"
   ]
  },
  {
   "cell_type": "code",
   "execution_count": 17,
   "id": "9c8f677a-8f7e-4820-93e0-4f1575b8ea56",
   "metadata": {},
   "outputs": [
    {
     "data": {
      "text/plain": [
       "[175, 78, False, True, 45]"
      ]
     },
     "execution_count": 17,
     "metadata": {},
     "output_type": "execute_result"
    }
   ],
   "source": [
    "[175,78,False,True,45]\n"
   ]
  },
  {
   "cell_type": "code",
   "execution_count": 19,
   "id": "b58be322-31bd-49d0-8482-9bbeab176e6e",
   "metadata": {},
   "outputs": [
    {
     "data": {
      "text/plain": [
       "[45, True]"
      ]
     },
     "execution_count": 19,
     "metadata": {},
     "output_type": "execute_result"
    }
   ],
   "source": [
    "c[2:4:1]"
   ]
  },
  {
   "cell_type": "markdown",
   "id": "8036e5d2-4f0a-4626-b8aa-ee06993be1c2",
   "metadata": {},
   "source": [
    "List method"
   ]
  },
  {
   "cell_type": "markdown",
   "id": "033a70e2-d3b7-4982-a290-516cbf18ec3c",
   "metadata": {},
   "source": [
    "append\n",
    "insert\n",
    "extend\n",
    "pop\n",
    "remove\n",
    "clear\n",
    "count"
   ]
  },
  {
   "cell_type": "code",
   "execution_count": 23,
   "id": "e5c756f2-47fc-44f0-a8ab-ef78de19d7a4",
   "metadata": {},
   "outputs": [
    {
     "data": {
      "text/plain": [
       "[203, 'hyderabad', 45, True, False, 78, 175, 34, 90]"
      ]
     },
     "execution_count": 23,
     "metadata": {},
     "output_type": "execute_result"
    }
   ],
   "source": [
    "c"
   ]
  },
  {
   "cell_type": "code",
   "execution_count": 42,
   "id": "0f4eb840-4a03-4590-99b8-cbfb86b8ca58",
   "metadata": {},
   "outputs": [
    {
     "data": {
      "text/plain": [
       "[203, 'hyderabad', 45, True, False, 78, 175, 34, 90, 80, 80]"
      ]
     },
     "execution_count": 42,
     "metadata": {},
     "output_type": "execute_result"
    }
   ],
   "source": [
    "c.append(80)\n",
    "c"
   ]
  },
  {
   "cell_type": "code",
   "execution_count": 46,
   "id": "2ef524e7-697b-4bc2-836d-af1b0c7417e6",
   "metadata": {},
   "outputs": [
    {
     "data": {
      "text/plain": [
       "[203, 90, 90, 'hyderabad', 45, True, False, 78, 175, 34, 90, 80, 80]"
      ]
     },
     "execution_count": 46,
     "metadata": {},
     "output_type": "execute_result"
    }
   ],
   "source": [
    "c.insert(1,90)\n",
    "c"
   ]
  },
  {
   "cell_type": "code",
   "execution_count": 49,
   "id": "d94b43b7-8fc1-4896-b429-30e3739adcb4",
   "metadata": {},
   "outputs": [
    {
     "data": {
      "text/plain": [
       "[203, 90, 90, 'hyderabad', True, False, 78, 175, 34, 90, 80, 80]"
      ]
     },
     "execution_count": 49,
     "metadata": {},
     "output_type": "execute_result"
    }
   ],
   "source": [
    "c.remove(45)\n",
    "c"
   ]
  },
  {
   "cell_type": "code",
   "execution_count": 53,
   "id": "3bce1b46-8315-4de6-8b1e-17a5b63c135f",
   "metadata": {},
   "outputs": [
    {
     "data": {
      "text/plain": [
       "[203, 90, 90, False, 78, 175, 34, 90, 80, 80]"
      ]
     },
     "execution_count": 53,
     "metadata": {},
     "output_type": "execute_result"
    }
   ],
   "source": [
    "c.pop(3)\n",
    "c"
   ]
  },
  {
   "cell_type": "code",
   "execution_count": 55,
   "id": "2af0115c-d19c-42ac-a3c8-f33868ae8baa",
   "metadata": {},
   "outputs": [
    {
     "data": {
      "text/plain": [
       "[]"
      ]
     },
     "execution_count": 55,
     "metadata": {},
     "output_type": "execute_result"
    }
   ],
   "source": [
    "c.clear()\n",
    "c"
   ]
  },
  {
   "cell_type": "code",
   "execution_count": 1,
   "id": "cef4f39c-d621-4819-99c1-339d0d41c9f4",
   "metadata": {},
   "outputs": [
    {
     "data": {
      "text/plain": [
       "(90, 70, 50, 30, 20)"
      ]
     },
     "execution_count": 1,
     "metadata": {},
     "output_type": "execute_result"
    }
   ],
   "source": [
    "h = (90,70,50,30,20)\n",
    "h"
   ]
  },
  {
   "cell_type": "code",
   "execution_count": 3,
   "id": "41f9c73e-7276-469f-9bdb-ace1764607fd",
   "metadata": {},
   "outputs": [
    {
     "data": {
      "text/plain": [
       "1"
      ]
     },
     "execution_count": 3,
     "metadata": {},
     "output_type": "execute_result"
    }
   ],
   "source": [
    "h.count(90)"
   ]
  },
  {
   "cell_type": "code",
   "execution_count": 5,
   "id": "a3b6b369-b515-4bd9-ba47-b8595b15aa84",
   "metadata": {},
   "outputs": [
    {
     "data": {
      "text/plain": [
       "3"
      ]
     },
     "execution_count": 5,
     "metadata": {},
     "output_type": "execute_result"
    }
   ],
   "source": [
    "h.index(30)"
   ]
  },
  {
   "cell_type": "code",
   "execution_count": null,
   "id": "9da2e1f9-ec20-47e4-a148-2cd56070ab6a",
   "metadata": {},
   "outputs": [],
   "source": []
  },
  {
   "cell_type": "code",
   "execution_count": null,
   "id": "f2298360-710e-4113-a8c1-a2b06ed47a5f",
   "metadata": {},
   "outputs": [],
   "source": []
  }
 ],
 "metadata": {
  "kernelspec": {
   "display_name": "Python [conda env:base] *",
   "language": "python",
   "name": "conda-base-py"
  },
  "language_info": {
   "codemirror_mode": {
    "name": "ipython",
    "version": 3
   },
   "file_extension": ".py",
   "mimetype": "text/x-python",
   "name": "python",
   "nbconvert_exporter": "python",
   "pygments_lexer": "ipython3",
   "version": "3.12.7"
  }
 },
 "nbformat": 4,
 "nbformat_minor": 5
}
